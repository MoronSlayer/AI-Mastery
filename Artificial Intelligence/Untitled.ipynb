{
 "cells": [
  {
   "cell_type": "markdown",
   "id": "27548065",
   "metadata": {},
   "source": [
    "# Online Learning "
   ]
  },
  {
   "cell_type": "markdown",
   "id": "4b841cd0",
   "metadata": {},
   "source": [
    "Consider the example of N experts, where you're trying to predict the experts:\n",
    "$1,......,N$\n",
    "\n",
    "- $e.g.$ image classification:$\\hat{y_1},...,\\hat{y_N}$\n",
    "you compare against true labels\n",
    "$y_1.,.....y_N$\n",
    "\n",
    "- Initially, you guess the skill to be $1/N,.....,1/N$ (or weights, $w_1.,....w_N$)\n",
    "Then, calculate the loss function for each expert:\n",
    "$L_1, ......,L_N \\in [0,1]$\n",
    "\n",
    "- After every iteration you update the weights by ----> incorrect labels by $w_{i +1} = w_{i}\\beta$  & correct labels by $ w_{i+1} = w_i $\n",
    "- so as $L_i$ increases, $w_{i+1}$ decreases"
   ]
  },
  {
   "cell_type": "markdown",
   "id": "b2b7264d",
   "metadata": {},
   "source": []
  },
  {
   "cell_type": "markdown",
   "id": "a24c9bbb",
   "metadata": {},
   "source": []
  }
 ],
 "metadata": {
  "kernelspec": {
   "display_name": "Python 3 (ipykernel)",
   "language": "python",
   "name": "python3"
  },
  "language_info": {
   "codemirror_mode": {
    "name": "ipython",
    "version": 3
   },
   "file_extension": ".py",
   "mimetype": "text/x-python",
   "name": "python",
   "nbconvert_exporter": "python",
   "pygments_lexer": "ipython3",
   "version": "3.8.8"
  }
 },
 "nbformat": 4,
 "nbformat_minor": 5
}
