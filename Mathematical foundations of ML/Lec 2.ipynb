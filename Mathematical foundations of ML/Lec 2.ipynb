{
 "cells": [
  {
   "cell_type": "markdown",
   "id": "408dff7e",
   "metadata": {},
   "source": [
    "# Linear Algebra part 2"
   ]
  },
  {
   "cell_type": "markdown",
   "id": "640ceac0",
   "metadata": {},
   "source": [
    "- Vector spaces $\\mathbb{R}^n$ contain all column vectors $v$ with $n$ components\n",
    "- vector spaces must be closed under addition and multiplication"
   ]
  },
  {
   "cell_type": "markdown",
   "id": "0cc3d317",
   "metadata": {},
   "source": [
    "## Subspaces: \n",
    "- The set of all possible linear combinations of vectors that can take up a linear space\n",
    "- must be closed under addition and multiplication\n",
    "- must contain the zero vector\n",
    "- $\\forall v,w \\in V, \\forall \\lambda, \\mu \\in \\mathbb{R}; \\lambda v + \\mu w \\in V$"
   ]
  },
  {
   "cell_type": "markdown",
   "id": "4040d4d1",
   "metadata": {},
   "source": [
    "## Column Spaces:\n",
    "- column space of matrix A contains all the linear combinations of the columns of A\n",
    "- combinations are all possible vectors $Ax$ denoted by $C(A)$\n",
    "- the system $Ax= b$ is solvable only if $b$ is in the column of $A$"
   ]
  },
  {
   "cell_type": "markdown",
   "id": "4cf9be18",
   "metadata": {},
   "source": [
    "## Null Space:\n",
    "- The solution vectors $x$ of the matrix ${A}_{mxn} $ have $n$ components.\n",
    "- it contains all the solutions to $Ax = 0$\n",
    "-  They are vectors in $\\mathbb{R}^n$,so the null space is a subspace of $\\mathbb{R}^n$. The column space $C(A)$ is a subspace of $\\mathbb{R}^m$"
   ]
  },
  {
   "cell_type": "markdown",
   "id": "4e2a1d73",
   "metadata": {},
   "source": [
    "## Complete solution to Ax = b\n",
    "- set all free variables to 0 and then solve for $Ax =b$ for pivot variables fine $x_{particular}$\n",
    "- find the null space $ x_{nullspace} $\n",
    "- find the complete solution:\n",
    " $ x = x_{particular} + x_{nullspace} $"
   ]
  },
  {
   "cell_type": "markdown",
   "id": "587f955f",
   "metadata": {},
   "source": [
    "## Matrix Rank\n",
    "- rank is given by the number of pivot columns, $ r(A), rk(A)$ or $rank(A)$\n"
   ]
  },
  {
   "cell_type": "markdown",
   "id": "142d4a54",
   "metadata": {},
   "source": [
    "# Four fundamental subspaces:\n",
    "- Column space , $C(A) \\in \\mathbb{R}^m$ --> linear combinations of columns of A \n",
    "- Null space , $N(A) \\in \\mathbb{R}^n$\n",
    "- Row space , $C(A^T) \\in \\mathbb{R}^n$  --> linear combinations of rows of A \n",
    "- Left Null space , $N(A^T) \\in \\mathbb{R}^m$"
   ]
  },
  {
   "cell_type": "code",
   "execution_count": null,
   "id": "a613e380",
   "metadata": {},
   "outputs": [],
   "source": []
  }
 ],
 "metadata": {
  "kernelspec": {
   "display_name": "Python 3 (ipykernel)",
   "language": "python",
   "name": "python3"
  },
  "language_info": {
   "codemirror_mode": {
    "name": "ipython",
    "version": 3
   },
   "file_extension": ".py",
   "mimetype": "text/x-python",
   "name": "python",
   "nbconvert_exporter": "python",
   "pygments_lexer": "ipython3",
   "version": "3.8.8"
  }
 },
 "nbformat": 4,
 "nbformat_minor": 5
}
