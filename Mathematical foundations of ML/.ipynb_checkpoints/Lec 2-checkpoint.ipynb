{
 "cells": [
  {
   "cell_type": "markdown",
   "id": "e041b993",
   "metadata": {},
   "source": [
    "# Linear Algebra part 2"
   ]
  },
  {
   "cell_type": "markdown",
   "id": "b1f9450a",
   "metadata": {},
   "source": [
    "- Vector spaces $\\mathbb{R}^n$ contain all column vectors $v$ with $n$ components\n",
    "- vector spaces must be closed under addition and multiplication"
   ]
  },
  {
   "cell_type": "markdown",
   "id": "68422ed7",
   "metadata": {},
   "source": [
    "## Subspaces: \n",
    "- The set of all possible linear combinations of vectors that can take up a linear space\n",
    "- must be closed under addition and multiplication\n",
    "- must contain the zero vector\n",
    "- $\\forall v,w \\in V, \\forall \\lambda, \\mu \\in \\mathbb{R}; \\lambda v + \\mu w \\in V$"
   ]
  },
  {
   "cell_type": "markdown",
   "id": "0e8cc571",
   "metadata": {},
   "source": [
    "## Column Spaces:\n",
    "- column space of matrix A contains all the linear combinations of the columns of A\n",
    "- combinations are all possible vectors $Ax$ denoted by $C(A)$\n",
    "- the system $Ax= b$ is solvable only if $b$ is in the column of $A$"
   ]
  },
  {
   "cell_type": "markdown",
   "id": "ff15c294",
   "metadata": {},
   "source": [
    "## Null Space:\n",
    "- The solution vectors $x$ of the matrix ${A}_{mxn} $ have $n$ components.\n",
    "- it contains all the solutions to $Ax = 0$\n",
    "-  They are vectors in $\\mathbb{R}^n$,so the null space is a subspace of $\\mathbb{R}^n$. The column space $C(A)$ is a subspace of $\\mathbb{R}^m$"
   ]
  },
  {
   "cell_type": "code",
   "execution_count": null,
   "id": "69dbfe0d",
   "metadata": {},
   "outputs": [],
   "source": []
  }
 ],
 "metadata": {
  "kernelspec": {
   "display_name": "Python 3 (ipykernel)",
   "language": "python",
   "name": "python3"
  },
  "language_info": {
   "codemirror_mode": {
    "name": "ipython",
    "version": 3
   },
   "file_extension": ".py",
   "mimetype": "text/x-python",
   "name": "python",
   "nbconvert_exporter": "python",
   "pygments_lexer": "ipython3",
   "version": "3.8.8"
  }
 },
 "nbformat": 4,
 "nbformat_minor": 5
}
