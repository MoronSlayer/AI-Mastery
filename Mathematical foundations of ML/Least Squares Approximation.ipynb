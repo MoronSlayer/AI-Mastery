{
 "cells": [
  {
   "cell_type": "markdown",
   "metadata": {},
   "source": [
    "## Least Squares Approximation: Salary v. Experience"
   ]
  },
  {
   "cell_type": "markdown",
   "metadata": {},
   "source": [
    "1. Import the necessary libraries. For this assignment, we'll need `numpy`, `matplotlib.pyplot`, and `pandas`. For some of the longer module names, remember we can alias them using `as` to make their types easier to work with."
   ]
  },
  {
   "cell_type": "code",
   "execution_count": 14,
   "metadata": {},
   "outputs": [],
   "source": [
    "import numpy as np \n",
    "import matplotlib.pyplot as plt\n",
    "import pandas as pd\n"
   ]
  },
  {
   "cell_type": "markdown",
   "metadata": {},
   "source": [
    "2. Open and load the CSV file `Salary_Data.csv` into a Pandas dataframe. Name the dataframe variable something unique, like 'data' or 'df'. Remember that for CSV files, there's a built-in Pandas function for reading their data."
   ]
  },
  {
   "cell_type": "code",
   "execution_count": 4,
   "metadata": {},
   "outputs": [],
   "source": [
    "df = pd.read_csv('R:\\Projects - personal\\Least squares\\salary_data.csv')\n"
   ]
  },
  {
   "cell_type": "markdown",
   "metadata": {},
   "source": [
    "3. Use the dataframe you created to print the first 5 items (the 'head') to the output. Utilize Pandas' built-in functions for this!"
   ]
  },
  {
   "cell_type": "code",
   "execution_count": 5,
   "metadata": {},
   "outputs": [
    {
     "data": {
      "text/html": [
       "<div>\n",
       "<style scoped>\n",
       "    .dataframe tbody tr th:only-of-type {\n",
       "        vertical-align: middle;\n",
       "    }\n",
       "\n",
       "    .dataframe tbody tr th {\n",
       "        vertical-align: top;\n",
       "    }\n",
       "\n",
       "    .dataframe thead th {\n",
       "        text-align: right;\n",
       "    }\n",
       "</style>\n",
       "<table border=\"1\" class=\"dataframe\">\n",
       "  <thead>\n",
       "    <tr style=\"text-align: right;\">\n",
       "      <th></th>\n",
       "      <th>YearsExperience</th>\n",
       "      <th>Salary</th>\n",
       "    </tr>\n",
       "  </thead>\n",
       "  <tbody>\n",
       "    <tr>\n",
       "      <th>0</th>\n",
       "      <td>1.1</td>\n",
       "      <td>39343.0</td>\n",
       "    </tr>\n",
       "    <tr>\n",
       "      <th>1</th>\n",
       "      <td>1.3</td>\n",
       "      <td>46205.0</td>\n",
       "    </tr>\n",
       "    <tr>\n",
       "      <th>2</th>\n",
       "      <td>1.5</td>\n",
       "      <td>37731.0</td>\n",
       "    </tr>\n",
       "    <tr>\n",
       "      <th>3</th>\n",
       "      <td>2.0</td>\n",
       "      <td>43525.0</td>\n",
       "    </tr>\n",
       "    <tr>\n",
       "      <th>4</th>\n",
       "      <td>2.2</td>\n",
       "      <td>39891.0</td>\n",
       "    </tr>\n",
       "  </tbody>\n",
       "</table>\n",
       "</div>"
      ],
      "text/plain": [
       "   YearsExperience   Salary\n",
       "0              1.1  39343.0\n",
       "1              1.3  46205.0\n",
       "2              1.5  37731.0\n",
       "3              2.0  43525.0\n",
       "4              2.2  39891.0"
      ]
     },
     "execution_count": 5,
     "metadata": {},
     "output_type": "execute_result"
    }
   ],
   "source": [
    "df.head()"
   ]
  },
  {
   "cell_type": "markdown",
   "metadata": {},
   "source": [
    "4. Create a scatter plot using the Pandas dataframe. Make the X-axis years of experience, and the Y-axis the corresponding salary. Output the result. If you've done everything up to this point correctly, it should look like the following image:\n",
    "\n",
    "    ![](o1.png)"
   ]
  },
  {
   "cell_type": "code",
   "execution_count": 15,
   "metadata": {},
   "outputs": [
    {
     "data": {
      "image/png": "[encoded data removed]",
      "text/plain": [
       "<Figure size 432x288 with 1 Axes>"
      ]
     },
     "metadata": {
      "needs_background": "light"
     },
     "output_type": "display_data"
    }
   ],
   "source": [
    "df.plot(\n",
    "   x='YearsExperience', \n",
    "   y='Salary', \n",
    "   kind='scatter'\n",
    ")\n",
    "\n",
    "plt.show()"
   ]
  },
  {
   "cell_type": "markdown",
   "metadata": {},
   "source": [
    "5. Implement the Least Squares approximation, to find a straight line that best approximates the data we've been provided with and plotted in the previous question. We'll be implementing this system manually - you're **not** allowed to use an external library like `numpy.linalg` to solve. You will, however, want to use the `numpy` constructions for numbers and matrices we already imported to manipulate your data.\n",
    "\n",
    "    > As a refresher, the Least Squares Approximation finds values $\\theta_0, \\theta_1$ such that $y = \\theta_0 + \\theta_1x$ is an accurate approximation of the trend of the data provided.\n",
    "    > \n",
    "    > In matrix form:\n",
    "    > $$A = [1 , X]$$\n",
    "    > \n",
    "    > $A$ can be thought of as a column of $1$'s and a column of sample $x$ values. Then, we define $\\theta$ as:\n",
    "    > \n",
    "    > $$\\theta = [\\theta_0, \\theta_1]^t$$\n",
    "    > \n",
    "    > So $b = A \\theta$\n",
    "    > \n",
    "    > To find the approximate result, we can use the pseudo-inverse of $A$:\n",
    "    > $$\\theta = [(A^t A)^{(-1)} A^t] b$$"
   ]
  },
  {
   "cell_type": "code",
   "execution_count": 44,
   "metadata": {},
   "outputs": [],
   "source": [
    "x = df['YearsExperience']\n",
    "y = df['Salary']"
   ]
  },
  {
   "cell_type": "code",
   "execution_count": 55,
   "metadata": {},
   "outputs": [],
   "source": [
    "y.shape = (30,1)"
   ]
  },
  {
   "cell_type": "code",
   "execution_count": 52,
   "metadata": {},
   "outputs": [],
   "source": [
    "# assemble matrix A\n",
    "A = np.vstack([x, np.ones(len(x))]).T\n",
    "\n",
    "# turn y into a column vector\n",
    "y = np.array(y).T\n",
    "x = np.array(x)"
   ]
  },
  {
   "cell_type": "code",
   "execution_count": 68,
   "metadata": {},
   "outputs": [],
   "source": [
    "def dot_product(vector_a, vector_b):\n",
    "\t#base case\n",
    "    #error message if the vectors are not of the same length\n",
    "\tif len(vector_a) != len(vector_b):\n",
    "\t\treturn \"ERROR: both input vectors must be of the same length\"\n",
    "\n",
    "    #multiply vector_a at position i with vector_b at position i\n",
    "    #sum the vector made\n",
    "    #return that vector\n",
    "\treturn sum([vector_a[i] * vector_b[i] for i in range(len(vector_a))])"
   ]
  },
  {
   "cell_type": "code",
   "execution_count": 75,
   "metadata": {},
   "outputs": [
    {
     "data": {
      "text/plain": [
       "array([[1080.5,  159.4],\n",
       "       [ 159.4,   30. ]])"
      ]
     },
     "execution_count": 75,
     "metadata": {},
     "output_type": "execute_result"
    }
   ],
   "source": [
    "A.transpose().dot(A)"
   ]
  },
  {
   "cell_type": "code",
   "execution_count": 86,
   "metadata": {},
   "outputs": [
    {
     "data": {
      "text/plain": [
       "array([  2.21,   2.69,   3.25,   5.  ,   5.84,   9.41,  10.  ,  11.24,\n",
       "        11.24,  14.69,  16.21,  17.  ,  17.  ,  17.81,  21.25,  25.01,\n",
       "        27.01,  29.09,  35.81,  37.  ,  47.24,  51.41,  63.41,  68.24,\n",
       "        76.69,  82.  ,  91.25,  93.16, 107.09, 111.25])"
      ]
     },
     "execution_count": 86,
     "metadata": {},
     "output_type": "execute_result"
    }
   ],
   "source": [
    "sum([i*j for (i, j) in zip(A, A)])"
   ]
  },
  {
   "cell_type": "code",
   "execution_count": 99,
   "metadata": {},
   "outputs": [
    {
     "data": {
      "text/plain": [
       "array([[1080.5,  159.4],\n",
       "       [ 159.4,   30. ]])"
      ]
     },
     "execution_count": 99,
     "metadata": {},
     "output_type": "execute_result"
    }
   ],
   "source": [
    "mat= [sum(A[:, 0]*A[:, 0]), sum(A[:, 0]*A[:, 1]), sum(A[:, 1]*A[:, 0]), sum(A[:, 1]*A[:, 1])]\n",
    "mat = np.array(mat).reshape(2,2)\n",
    "mat"
   ]
  },
  {
   "cell_type": "code",
   "execution_count": 77,
   "metadata": {},
   "outputs": [
    {
     "data": {
      "text/plain": [
       "array([[1080.5,  159.4],\n",
       "       [ 159.4,   30. ]])"
      ]
     },
     "execution_count": 77,
     "metadata": {},
     "output_type": "execute_result"
    }
   ],
   "source": [
    "A.transpose() @ A"
   ]
  },
  {
   "cell_type": "code",
   "execution_count": 118,
   "metadata": {},
   "outputs": [
    {
     "data": {
      "text/plain": [
       "array([[  30. , -159.4],\n",
       "       [-159.4, 1080.5]])"
      ]
     },
     "execution_count": 118,
     "metadata": {},
     "output_type": "execute_result"
    }
   ],
   "source": [
    "mat\n",
    "imat = np.empty_like(mat)\n",
    "imat[0,0] = mat[1,1]\n",
    "imat[0,1] = -mat[0,1]\n",
    "imat[1,0] = -mat[1,0]\n",
    "imat[1,1] = mat[0,0]\n",
    "imat"
   ]
  },
  {
   "cell_type": "code",
   "execution_count": 119,
   "metadata": {},
   "outputs": [],
   "source": [
    "imat = (1/(mat[0,0]*mat[1,1]-mat[0,1]*mat[1,0]))*(imat)"
   ]
  },
  {
   "cell_type": "code",
   "execution_count": 120,
   "metadata": {},
   "outputs": [
    {
     "data": {
      "text/plain": [
       "array([[ 0.00428165, -0.02274985],\n",
       "       [-0.02274985,  0.15421086]])"
      ]
     },
     "execution_count": 120,
     "metadata": {},
     "output_type": "execute_result"
    }
   ],
   "source": [
    "imat"
   ]
  },
  {
   "cell_type": "code",
   "execution_count": 121,
   "metadata": {},
   "outputs": [
    {
     "data": {
      "text/plain": [
       "array([[ 0.00428165, -0.02274985],\n",
       "       [-0.02274985,  0.15421086]])"
      ]
     },
     "execution_count": 121,
     "metadata": {},
     "output_type": "execute_result"
    }
   ],
   "source": [
    "np.linalg.inv(mat)"
   ]
  },
  {
   "cell_type": "code",
   "execution_count": 138,
   "metadata": {},
   "outputs": [
    {
     "data": {
      "text/plain": [
       "array([[ 1.1,  1. ],\n",
       "       [ 1.3,  1. ],\n",
       "       [ 1.5,  1. ],\n",
       "       [ 2. ,  1. ],\n",
       "       [ 2.2,  1. ],\n",
       "       [ 2.9,  1. ],\n",
       "       [ 3. ,  1. ],\n",
       "       [ 3.2,  1. ],\n",
       "       [ 3.2,  1. ],\n",
       "       [ 3.7,  1. ],\n",
       "       [ 3.9,  1. ],\n",
       "       [ 4. ,  1. ],\n",
       "       [ 4. ,  1. ],\n",
       "       [ 4.1,  1. ],\n",
       "       [ 4.5,  1. ],\n",
       "       [ 4.9,  1. ],\n",
       "       [ 5.1,  1. ],\n",
       "       [ 5.3,  1. ],\n",
       "       [ 5.9,  1. ],\n",
       "       [ 6. ,  1. ],\n",
       "       [ 6.8,  1. ],\n",
       "       [ 7.1,  1. ],\n",
       "       [ 7.9,  1. ],\n",
       "       [ 8.2,  1. ],\n",
       "       [ 8.7,  1. ],\n",
       "       [ 9. ,  1. ],\n",
       "       [ 9.5,  1. ],\n",
       "       [ 9.6,  1. ],\n",
       "       [10.3,  1. ],\n",
       "       [10.5,  1. ]])"
      ]
     },
     "execution_count": 138,
     "metadata": {},
     "output_type": "execute_result"
    }
   ],
   "source": [
    "A"
   ]
  },
  {
   "cell_type": "code",
   "execution_count": 137,
   "metadata": {},
   "outputs": [
    {
     "data": {
      "text/plain": [
       "array([[ 1.1,  1.3,  1.5,  2. ,  2.2,  2.9,  3. ,  3.2,  3.2,  3.7,  3.9,\n",
       "         4. ,  4. ,  4.1,  4.5,  4.9,  5.1,  5.3,  5.9,  6. ,  6.8,  7.1,\n",
       "         7.9,  8.2,  8.7,  9. ,  9.5,  9.6, 10.3, 10.5],\n",
       "       [ 1. ,  1. ,  1. ,  1. ,  1. ,  1. ,  1. ,  1. ,  1. ,  1. ,  1. ,\n",
       "         1. ,  1. ,  1. ,  1. ,  1. ,  1. ,  1. ,  1. ,  1. ,  1. ,  1. ,\n",
       "         1. ,  1. ,  1. ,  1. ,  1. ,  1. ,  1. ,  1. ]])"
      ]
     },
     "execution_count": 137,
     "metadata": {},
     "output_type": "execute_result"
    }
   ],
   "source": [
    "At = np.empty_like(A)\n",
    "At = np.zeros([A.shape[1],A.shape[0]])\n",
    "for i in range(len(A)):\n",
    "    At[0][i] = A[i][0]\n",
    "    At[1][i] = A[i][1]\n",
    "At"
   ]
  },
  {
   "cell_type": "code",
   "execution_count": 223,
   "metadata": {},
   "outputs": [],
   "source": [
    "def multiply(a,b):\n",
    "    #print(b.shape)\n",
    "    mul = np.zeros([a.shape[0],b.shape[0]])\n",
    "    #print(mul.shape)\n",
    "    for i in range(a.shape[0]):\n",
    "        for j in range(b.shape[0]):\n",
    "            sum = 0 \n",
    "            for k in range(a.shape[1]):\n",
    "                sum += a[i,k]*b[j,k]\n",
    "                #print(i,j,k)\n",
    "            mul[i,j] = sum\n",
    "            \n",
    "    return mul\n",
    "            \n",
    "        \n",
    "\n",
    "# imat At"
   ]
  },
  {
   "cell_type": "code",
   "execution_count": null,
   "metadata": {},
   "outputs": [],
   "source": []
  },
  {
   "cell_type": "code",
   "execution_count": 221,
   "metadata": {},
   "outputs": [
    {
     "data": {
      "text/plain": [
       "(30, 2)"
      ]
     },
     "execution_count": 221,
     "metadata": {},
     "output_type": "execute_result"
    }
   ],
   "source": [
    "muls = np.empty_like([imat.shape[1],At.shape[0]])\n",
    ".shape"
   ]
  },
  {
   "cell_type": "code",
   "execution_count": 224,
   "metadata": {
    "scrolled": true
   },
   "outputs": [
    {
     "data": {
      "text/plain": [
       "(2, 30)"
      ]
     },
     "execution_count": 224,
     "metadata": {},
     "output_type": "execute_result"
    }
   ],
   "source": [
    "mm= multiply(imat,A)\n",
    "# At.shape, imat.shape\n",
    "mm.shape"
   ]
  },
  {
   "cell_type": "markdown",
   "metadata": {},
   "source": []
  },
  {
   "cell_type": "markdown",
   "metadata": {},
   "source": []
  },
  {
   "cell_type": "code",
   "execution_count": 231,
   "metadata": {},
   "outputs": [
    {
     "data": {
      "text/plain": [
       "(30, 1)"
      ]
     },
     "execution_count": 231,
     "metadata": {},
     "output_type": "execute_result"
    }
   ],
   "source": [
    "y.shape"
   ]
  },
  {
   "cell_type": "code",
   "execution_count": 236,
   "metadata": {},
   "outputs": [
    {
     "data": {
      "text/plain": [
       "array([ 0.12918603,  0.12463606,  0.12008609,  0.10871117,  0.1041612 ,\n",
       "        0.0882363 ,  0.08596132,  0.08141135,  0.08141135,  0.07003642,\n",
       "        0.06548645,  0.06321147,  0.06321147,  0.06093648,  0.05183654,\n",
       "        0.0427366 ,  0.03818663,  0.03363666,  0.01998676,  0.01771177,\n",
       "       -0.00048811, -0.00731306, -0.02551294, -0.0323379 , -0.04371282,\n",
       "       -0.05053778, -0.0619127 , -0.06418768, -0.08011258, -0.08466255])"
      ]
     },
     "execution_count": 236,
     "metadata": {},
     "output_type": "execute_result"
    }
   ],
   "source": [
    "mm[1]"
   ]
  },
  {
   "cell_type": "code",
   "execution_count": 238,
   "metadata": {},
   "outputs": [
    {
     "data": {
      "text/plain": [
       "array([[ 9449.96232146],\n",
       "       [25792.20019867]])"
      ]
     },
     "execution_count": 238,
     "metadata": {},
     "output_type": "execute_result"
    }
   ],
   "source": [
    "theta = multiply(mm, y.reshape(1, -1))\n",
    "theta"
   ]
  },
  {
   "cell_type": "code",
   "execution_count": 234,
   "metadata": {},
   "outputs": [
    {
     "data": {
      "text/plain": [
       "array([[ 9449.96232146],\n",
       "       [25792.20019867]])"
      ]
     },
     "execution_count": 234,
     "metadata": {},
     "output_type": "execute_result"
    }
   ],
   "source": [
    "theta"
   ]
  },
  {
   "cell_type": "code",
   "execution_count": 57,
   "metadata": {},
   "outputs": [
    {
     "name": "stdout",
     "output_type": "stream",
     "text": [
      "[[ 9449.96232146]\n",
      " [25792.20019867]]\n"
     ]
    }
   ],
   "source": [
    "alpha = np.dot((np.dot(np.linalg.inv(np.dot(A.T,A)),A.T)),y)\n",
    "print(alpha)"
   ]
  },
  {
   "cell_type": "markdown",
   "metadata": {},
   "source": [
    "6. On top of the scatter plot you created in part **4**, we now want to use our calculated $\\theta$ to draw our approximate linear regression onto the plot surface. Start with the plot from earlier, and then use the `matplotlib.pyplot.plot` function to plot the predicted line from an array of $x_{pred}$ and $y_{pred}$ predictions. You'll need to likely compute $A$ for each section of the line in order to compute $y=A \\cdot \\theta$ for a given point - think about how you can use Numpy and matrices to calculate all of the points in the line at once!\n",
    "\n",
    "    If you've correctly set up your linear regression, as the end result you should see something that looks like this:\n",
    "\n",
    "    ![](o2.png)"
   ]
  },
  {
   "cell_type": "code",
   "execution_count": 58,
   "metadata": {},
   "outputs": [
    {
     "data": {
      "image/png": "[encoded data removed]",
      "text/plain": [
       "<Figure size 720x576 with 1 Axes>"
      ]
     },
     "metadata": {
      "needs_background": "light"
     },
     "output_type": "display_data"
    }
   ],
   "source": [
    "# plot the results\n",
    "plt.figure(figsize = (10,8))\n",
    "plt.plot(x, y, 'b.')\n",
    "plt.plot(x, alpha[0]*x + alpha[1], 'r')\n",
    "plt.xlabel('x')\n",
    "plt.ylabel('y')\n",
    "plt.show()"
   ]
  },
  {
   "cell_type": "code",
   "execution_count": null,
   "metadata": {},
   "outputs": [],
   "source": []
  }
 ],
 "metadata": {
  "kernelspec": {
   "display_name": "Python 3 (ipykernel)",
   "language": "python",
   "name": "python3"
  },
  "language_info": {
   "codemirror_mode": {
    "name": "ipython",
    "version": 3
   },
   "file_extension": ".py",
   "mimetype": "text/x-python",
   "name": "python",
   "nbconvert_exporter": "python",
   "pygments_lexer": "ipython3",
   "version": "3.8.8"
  }
 },
 "nbformat": 4,
 "nbformat_minor": 4
}
