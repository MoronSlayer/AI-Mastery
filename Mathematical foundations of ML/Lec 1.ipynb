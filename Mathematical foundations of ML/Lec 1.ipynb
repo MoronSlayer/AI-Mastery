{
 "cells": [
  {
   "cell_type": "markdown",
   "id": "4c644444",
   "metadata": {},
   "source": [
    "# Linear Algebra - short notes "
   ]
  },
  {
   "cell_type": "markdown",
   "id": "051bdc18",
   "metadata": {},
   "source": [
    "- Vectors are represented as numerical data (tuples)\n",
    "- vectors are linear combinations of dimensions\n",
    "- linear combinations $a\\vec{v}+b\\vec{w}$, where a and b are constants \n",
    "- dot OR inner product = $\\vec{v}.\\vec{w}$ OR $\\langle u,v \\rangle$ = $v^T.w$ = $\\sum_{i=1}^{n}v_i w_i$\n",
    "- $\\vec{v}.\\vec{w}$ = $\\vec{w}.\\vec{v}$ = $\\vec{v}^T\\vec{w}$ = $\\vec{w}^T\\vec{w}$\n",
    "- $|v| = \\sqrt{v^T v}$ = $\\sqrt{\\sum_{i=1}^{n}v_i^2}$\n",
    "- if $v.w$ = $0$ then $v \\perp w$, else: $v.w$ = $v^T.w$= $|v||w|\\cos(\\theta)$"
   ]
  },
  {
   "cell_type": "code",
   "execution_count": null,
   "id": "09286de9",
   "metadata": {},
   "outputs": [],
   "source": []
  }
 ],
 "metadata": {
  "kernelspec": {
   "display_name": "Python 3 (ipykernel)",
   "language": "python",
   "name": "python3"
  },
  "language_info": {
   "codemirror_mode": {
    "name": "ipython",
    "version": 3
   },
   "file_extension": ".py",
   "mimetype": "text/x-python",
   "name": "python",
   "nbconvert_exporter": "python",
   "pygments_lexer": "ipython3",
   "version": "3.8.8"
  }
 },
 "nbformat": 4,
 "nbformat_minor": 5
}
